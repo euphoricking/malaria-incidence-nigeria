{
 "cells": [
  {
   "cell_type": "markdown",
   "metadata": {},
   "source": [
    "# Malaria Incidence Disaggregation Notebook\n",
    "# \n",
    "# This notebook demonstrates the process of disaggregating national malaria incidence data to the state level by combining multiple datasets. We use population data, Land Use Land Cover (LULC) data, and environmental data (temperature and rainfall) to compute weights that are then used to allocate national malaria cases proportionally to each state.\n",
    "# \n",
    "# **Overview of Steps:**\n",
    "# \n",
    "# 1. **Data Import:** Load population, administrative boundaries, LULC, and environmental data.\n",
    "# 2. **Data Preparation:** Clean and prepare datasets.\n",
    "# 3. **Population Disaggregation:** Merge population data with state boundaries.\n",
    "# 4. **LULC Weighting:** Assign weights based on LULC categories (urban, agricultural, forested, water bodies).\n",
    "# 5. **Environmental Risk Calculation:** Compute risk indices from temperature and rainfall data.\n",
    "# 6. **Malaria Incidence Allocation:** Distribute national malaria incidence based on the computed weights.\n",
    "# 7. **Results Export:** Save or visualize the final disaggregated data."
   ]
  },
  {
   "cell_type": "code",
   "execution_count": null,
   "metadata": {},
   "outputs": [],
   "source": [
    "# Import necessary libraries\n",
    "import pandas as pd\n",
    "import geopandas as gpd\n",
    "import numpy as np\n",
    "import matplotlib.pyplot as plt\n",
    "import rasterio\n",
    "from rasterio.plot import show\n",
    "from shapely.geometry import Point"
   ]
  },
  {
   "cell_type": "markdown",
   "metadata": {},
   "source": [
    "## Step 1: Data Import\n",
    "# \n",
    "# In this section, we load the various datasets:\n",
    "# \n",
    "# - **Population Data:** A CSV file containing state-level population counts.\n",
    "# - **Administrative Boundaries:** A shapefile with the boundaries of Nigeria's 36 states and the FCT.\n",
    "# - **LULC Data:** Raster or vector data classifying regions (urban, agricultural, forested, water bodies).\n",
    "# - **Environmental Data:** Temperature and rainfall data (could be in CSV, raster, or other formats).\n",
    "# \n",
    "# *Note: Replace the file paths with the correct paths on your PC"
   ]
  },
  {
   "cell_type": "code",
   "execution_count": null,
   "metadata": {},
   "outputs": [],
   "source": [
    "# Load population data\n",
    "pop_df = pd.read_csv(\"data/nigeria_population.csv\")  \n",
    "# Expected columns: ['State', 'Population']\n",
    "\n",
    "# Load administrative boundaries (shapefile)\n",
    "states_gdf = gpd.read_file(\"data/nigeria_states.shp\")\n",
    "# Ensure the state names in the shapefile match those in the population data\n",
    "\n",
    "# Load LULC data (this can be a shapefile or raster; here we assume a shapefile)\n",
    "lulc_gdf = gpd.read_file(\"data/nigeria_lulc.shp\")\n",
    "# Expected columns: ['State', 'LULC_Type'] where LULC_Type might be categories like 'Urban', 'Agricultural', etc.\n",
    "\n",
    "# Load environmental data (e.g., average temperature and rainfall per state)\n",
    "env_df = pd.read_csv(\"data/nigeria_environment.csv\")\n",
    "# Expected columns: ['State', 'Avg_Temperature', 'Avg_Rainfall']"
   ]
  },
  {
   "cell_type": "markdown",
   "metadata": {},
   "source": [
    "## Step 2: Data Preparation\n",
    "# \n",
    "# We now ensure that all datasets have a common key (State) and merge the population and environmental data into the administrative boundaries GeoDataFrame."
   ]
  },
  {
   "cell_type": "code",
   "execution_count": null,
   "metadata": {},
   "outputs": [],
   "source": [
    "# Merge population data into the states GeoDataFrame\n",
    "states_gdf = states_gdf.merge(pop_df, on=\"State\", how=\"left\")\n",
    "# Merge environmental data\n",
    "states_gdf = states_gdf.merge(env_df, on=\"State\", how=\"left\")\n",
    "\n",
    "# Check the head of the merged GeoDataFrame\n",
    "states_gdf.head()"
   ]
  },
  {
   "cell_type": "markdown",
   "metadata": {},
   "source": [
    "## Step 3: LULC Weighting\n",
    "# \n",
    "# We assign weights based on LULC categories. For simplicity, we assume that:\n",
    "# \n",
    "# - **Urban areas:** Weight = 1.5\n",
    "# - **Agricultural areas:** Weight = 1.3\n",
    "# - **Forested areas:** Weight = 1.0\n",
    "# - **Water bodies:** Weight = 0.5\n",
    "# \n",
    "# If a state has multiple LULC categories, you may compute a weighted average based on the proportion of each category."
   ]
  },
  {
   "cell_type": "code",
   "execution_count": null,
   "metadata": {},
   "outputs": [],
   "source": [
    "# Define a mapping of LULC types to weights\n",
    "lulc_weight_mapping = {\n",
    "    \"Urban\": 1.5,\n",
    "    \"Agricultural\": 1.3,\n",
    "    \"Forested\": 1.0,\n",
    "    \"Water\": 0.5\n",
    "}\n",
    "\n",
    "# Assume lulc_gdf has columns: ['State', 'LULC_Type']\n",
    "lulc_gdf[\"LULC_Weight\"] = lulc_gdf[\"LULC_Type\"].map(lulc_weight_mapping)\n",
    "\n",
    "# Merge LULC weight into states_gdf\n",
    "states_gdf = states_gdf.merge(lulc_gdf[[\"State\", \"LULC_Weight\"]], on=\"State\", how=\"left\")\n",
    "\n",
    "# If any state is missing a weight, fill with a default (e.g., 1.0)\n",
    "states_gdf[\"LULC_Weight\"].fillna(1.0, inplace=True)"
   ]
  },
  {
   "cell_type": "markdown",
   "metadata": {},
   "source": [
    "# ## Step 4: Environmental Risk Calculation\n",
    "# \n",
    "# We now calculate an environmental risk score based on temperature and rainfall. For example:\n",
    "# \n",
    "# - **Temperature Factor:** Optimal range is 20–32°C. We can compute a score based on how close the average temperature is to the midpoint (26°C).\n",
    "# - **Rainfall Factor:** Higher rainfall may increase risk due to stagnant water. A simple normalization of rainfall can be used.\n",
    "# \n",
    "# Here, we compute a risk score as:\n",
    "# \n",
    "# \\[\n",
    "# \\text{Risk Score} = \\text{LULC Weight} \\times \\left(1 - \\frac{|T - 26|}{\\Delta T}\\right) \\times \\left(\\frac{R}{R_{max}}\\right)\n",
    "# \\]\n",
    "# \n",
    "# Where \\(T\\) is average temperature, \\(\\Delta T\\) is the temperature range (assumed 6 for simplicity), \\(R\\) is average rainfall, and \\(R_{max}\\) is the maximum observed rainfall in the dataset."
   ]
  },
  {
   "cell_type": "code",
   "execution_count": null,
   "metadata": {},
   "outputs": [],
   "source": [
    "# Define temperature parameters\n",
    "optimal_temp = 26.0\n",
    "temp_range = 6.0  # a constant to normalize deviation\n",
    "\n",
    "# Normalize temperature score (closer to optimal yields higher score)\n",
    "states_gdf[\"Temp_Score\"] = 1 - (abs(states_gdf[\"Avg_Temperature\"] - optimal_temp) / temp_range)\n",
    "states_gdf[\"Temp_Score\"] = states_gdf[\"Temp_Score\"].clip(lower=0)  # ensure non-negative\n",
    "\n",
    "# Normalize rainfall score\n",
    "max_rainfall = states_gdf[\"Avg_Rainfall\"].max()\n",
    "states_gdf[\"Rain_Score\"] = states_gdf[\"Avg_Rainfall\"] / max_rainfall\n",
    "\n",
    "# Compute combined environmental risk score\n",
    "states_gdf[\"Env_Risk\"] = states_gdf[\"LULC_Weight\"] * states_gdf[\"Temp_Score\"] * states_gdf[\"Rain_Score\"]"
   ]
  },
  {
   "cell_type": "markdown",
   "metadata": {},
   "source": [
    "## Step 5: Malaria Incidence Allocation\n",
    "# \n",
    "# Assume we have a national malaria incidence number. We allocate this number to each state in proportion to the computed environmental risk and population density.\n",
    "# \n",
    "# First, compute a weight for each state based on:\n",
    "# \n",
    "# \\[\n",
    "# \\text{State Weight} = \\text{Population} \\times \\text{Env_Risk}\n",
    "# \\]\n",
    "# \n",
    "# Then, allocate national cases accordingly."
   ]
  },
  {
   "cell_type": "code",
   "execution_count": null,
   "metadata": {},
   "outputs": [],
   "source": [
    "# Example: National malaria incidence (from an external source)\n",
    "national_malaria_incidence = 500000  # replace with actual number\n",
    "\n",
    "# Compute state weight\n",
    "states_gdf[\"State_Weight\"] = states_gdf[\"Population\"] * states_gdf[\"Env_Risk\"]\n",
    "\n",
    "# Compute total weight across all states\n",
    "total_weight = states_gdf[\"State_Weight\"].sum()\n",
    "\n",
    "# Allocate malaria cases to each state proportionally\n",
    "states_gdf[\"Allocated_Cases\"] = (states_gdf[\"State_Weight\"] / total_weight) * national_malaria_incidence"
   ]
  },
  {
   "cell_type": "markdown",
   "metadata": {},
   "source": [
    "# ## Step 6: Results Visualization and Export\n",
    "# \n",
    "# We can now visualize the allocated malaria incidence on the map and export the results."
   ]
  },
  {
   "cell_type": "code",
   "execution_count": null,
   "metadata": {},
   "outputs": [],
   "source": [
    "# Visualize the allocated malaria cases using a choropleth map\n",
    "fig, ax = plt.subplots(1, 1, figsize=(12, 8))\n",
    "states_gdf.plot(column=\"Allocated_Cases\", cmap=\"OrRd\", linewidth=0.8, ax=ax, edgecolor=\"0.8\", legend=True)\n",
    "ax.set_title(\"Allocated Malaria Cases by State in Nigeria\")\n",
    "plt.axis(\"off\")\n",
    "plt.show()"
   ]
  },
  {
   "cell_type": "code",
   "execution_count": null,
   "metadata": {},
   "outputs": [],
   "source": [
    "# Optionally, export the resulting GeoDataFrame to a new shapefile or CSV\n",
    "states_gdf.to_file(\"output/nigeria_malaria_allocated.shp\")\n",
    "states_gdf.drop(columns=\"geometry\").to_csv(\"output/nigeria_malaria_allocated.csv\", index=False)"
   ]
  },
  {
   "cell_type": "markdown",
   "metadata": {},
   "source": [
    "## Conclusion\n",
    "# \n",
    "# In this notebook, we demonstrated a complete workflow for disaggregating national malaria incidence to the state level using a combination of population data, LULC weights, and environmental risk factors (temperature and rainfall). The resulting state-level allocation was used for further spatial analysis.\n",
    "# \n",
    "# Feel free to adapt and extend this code to include more detailed data, additional environmental variables, or more sophisticated weighting schemes.\n"
   ]
  },
  {
   "cell_type": "markdown",
   "metadata": {},
   "source": []
  }
 ],
 "metadata": {
  "language_info": {
   "name": "python"
  }
 },
 "nbformat": 4,
 "nbformat_minor": 2
}
